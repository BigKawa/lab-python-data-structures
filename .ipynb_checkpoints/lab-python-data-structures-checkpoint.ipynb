{
 "cells": [
  {
   "cell_type": "markdown",
   "metadata": {
    "tags": []
   },
   "source": [
    "# Lab | Data Structures "
   ]
  },
  {
   "cell_type": "markdown",
   "metadata": {},
   "source": [
    "## Exercise: Managing Customer Orders\n",
    "\n",
    "As part of a business venture, you are starting an online store that sells various products. To ensure smooth operations, you need to develop a program that manages customer orders and inventory.\n",
    "\n",
    "Follow the steps below to complete the exercise:\n",
    "\n",
    "1. Define a list called `products` that contains the following items: \"t-shirt\", \"mug\", \"hat\", \"book\", \"keychain\".\n",
    "\n",
    "2. Create an empty dictionary called `inventory`.\n",
    "\n",
    "3. Ask the user to input the quantity of each product available in the inventory. Use the product names from the `products` list as keys in the `inventory` dictionary and assign the respective quantities as values.\n",
    "\n",
    "4. Create an empty set called `customer_orders`.\n",
    "\n",
    "5. Ask the user to input the name of three products that a customer wants to order (from those in the products list, meaning three products out of \"t-shirt\", \"mug\", \"hat\", \"book\" or \"keychain\". Add each product name to the `customer_orders` set.\n",
    "\n",
    "6. Print the products in the `customer_orders` set.\n",
    "\n",
    "7. Calculate the following order statistics:\n",
    "   - Total Products Ordered: The total number of products in the `customer_orders` set.\n",
    "   - Percentage of Products Ordered: The percentage of products ordered compared to the total available products.\n",
    "   \n",
    "   Store these statistics in a tuple called `order_status`.\n",
    "\n",
    "8. Print the order statistics using the following format:\n",
    "   ```\n",
    "   Order Statistics:\n",
    "   Total Products Ordered: <total_products_ordered>\n",
    "   Percentage of Products Ordered: <percentage_ordered>% \n",
    "   ```\n",
    "\n",
    "9. Update the inventory by subtracting 1 from the quantity of each product. Modify the `inventory` dictionary accordingly.\n",
    "\n",
    "10. Print the updated inventory, displaying the quantity of each product on separate lines.\n",
    "\n",
    "Solve the exercise by implementing the steps using the Python concepts of lists, dictionaries, sets, and basic input/output operations. "
   ]
  },
  {
   "cell_type": "code",
   "execution_count": 219,
   "metadata": {},
   "outputs": [],
   "source": [
    "products = [\"t-shirt\", \"mug\", \"hat\", \"book\", \"keychain\"]\n",
    "\n",
    "inventory = {}"
   ]
  },
  {
   "cell_type": "code",
   "execution_count": 221,
   "metadata": {},
   "outputs": [
    {
     "name": "stdin",
     "output_type": "stream",
     "text": [
      "What is the quantity of t-shirt 5\n",
      "What is the quantity of mug 5\n",
      "What is the quantity of hat 5\n",
      "What is the quantity of book 5\n",
      "What is the quantity of keychain 5\n"
     ]
    }
   ],
   "source": [
    "for i in range(len(products)): #  \n",
    "    user_input = int(input(F\"What is the quantity of {products[i]}\"))\n",
    "    inventory[products[i]] = user_input"
   ]
  },
  {
   "cell_type": "code",
   "execution_count": 205,
   "metadata": {},
   "outputs": [
    {
     "name": "stdout",
     "output_type": "stream",
     "text": [
      "<class 'set'>\n"
     ]
    }
   ],
   "source": [
    "customer_orders  = set() #  creates an Empty Set\n",
    "\n",
    "print(type(customer_orders)) # Empty Customer Set"
   ]
  },
  {
   "cell_type": "code",
   "execution_count": 209,
   "metadata": {},
   "outputs": [
    {
     "name": "stdin",
     "output_type": "stream",
     "text": [
      "Which 3 items do you want to oder from ['t-shirt', 'mug', 'hat', 'book', 'keychain']  hat\n",
      "Which 3 items do you want to oder from ['t-shirt', 'mug', 'hat', 'book', 'keychain']  mug\n",
      "Which 3 items do you want to oder from ['t-shirt', 'mug', 'hat', 'book', 'keychain']  book\n"
     ]
    }
   ],
   "source": [
    "for i in range(0,3): # add items to order set\n",
    "    order = input(F\"Which 3 items do you want to oder from {products} \")\n",
    "    customer_orders.add(order)"
   ]
  },
  {
   "cell_type": "code",
   "execution_count": 211,
   "metadata": {},
   "outputs": [
    {
     "name": "stdout",
     "output_type": "stream",
     "text": [
      "{'book', 'hat', 'mug'}\n"
     ]
    }
   ],
   "source": [
    "print(customer_orders) "
   ]
  },
  {
   "cell_type": "code",
   "execution_count": 213,
   "metadata": {},
   "outputs": [
    {
     "name": "stdout",
     "output_type": "stream",
     "text": [
      "12.0 %\n"
     ]
    }
   ],
   "source": [
    "Total_products = len(customer_orders)\n",
    "\n",
    "\n",
    "Total_quantity = 0\n",
    "for key in inventory:\n",
    "    #  print(inventory[x]) #  Test\n",
    "    Total_quantity += inventory[key]\n",
    "# Total_Quantity = sum(inventory.values()) # \n",
    "\n",
    " \n",
    "\n",
    "\n",
    "\n",
    "Total_percentage = Total_products / Total_quantity*100\n",
    "#  print(Total_quantity)\n",
    "print(F\"{Total_percentage} %\")\n",
    "\n",
    "order_status = (Total_products, Total_percentage) # Order Status - Tuple\n",
    "# total_percentage = Total_products/len()\n",
    "\n",
    "\n",
    "\n"
   ]
  },
  {
   "cell_type": "code",
   "execution_count": 215,
   "metadata": {},
   "outputs": [
    {
     "name": "stdout",
     "output_type": "stream",
     "text": [
      " Order Statistics : \n",
      " Total Products Ordered : 3\n",
      " Percentage of Products Ordered : 12.0 %\n"
     ]
    }
   ],
   "source": [
    "print(F\" Order Statistics : \")\n",
    "print(F\" Total Products Ordered : {order_status[0]}\")\n",
    "print(F\" Percentage of Products Ordered : {order_status[1]} %\")"
   ]
  },
  {
   "cell_type": "code",
   "execution_count": 217,
   "metadata": {},
   "outputs": [
    {
     "name": "stdout",
     "output_type": "stream",
     "text": [
      "t-shirt = 4\n",
      "mug = 4\n",
      "hat = 4\n",
      "book = 4\n",
      "keychain = 4\n"
     ]
    }
   ],
   "source": [
    "# for x in range(0,5):\n",
    "#    inventory[products[x]] = inventory[products[x]]-1\n",
    "\n",
    "\n",
    "for key in inventory:\n",
    "    inventory[key] -= 1\n",
    "    \n",
    "\n",
    "#  print(inventory)\n",
    "\n",
    "for key in inventory:\n",
    "    print(F\"{key} = {inventory[key]}\")\n",
    "\n",
    "# inventory\n"
   ]
  },
  {
   "cell_type": "code",
   "execution_count": null,
   "metadata": {},
   "outputs": [],
   "source": []
  },
  {
   "cell_type": "code",
   "execution_count": null,
   "metadata": {},
   "outputs": [],
   "source": []
  },
  {
   "cell_type": "code",
   "execution_count": null,
   "metadata": {},
   "outputs": [],
   "source": []
  },
  {
   "cell_type": "code",
   "execution_count": null,
   "metadata": {},
   "outputs": [],
   "source": []
  }
 ],
 "metadata": {
  "kernelspec": {
   "display_name": "Python 3 (ipykernel)",
   "language": "python",
   "name": "python3"
  },
  "language_info": {
   "codemirror_mode": {
    "name": "ipython",
    "version": 3
   },
   "file_extension": ".py",
   "mimetype": "text/x-python",
   "name": "python",
   "nbconvert_exporter": "python",
   "pygments_lexer": "ipython3",
   "version": "3.12.4"
  }
 },
 "nbformat": 4,
 "nbformat_minor": 4
}
